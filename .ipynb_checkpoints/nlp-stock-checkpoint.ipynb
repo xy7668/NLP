{
 "cells": [
  {
   "cell_type": "markdown",
   "metadata": {},
   "source": [
    "# 用每日新闻预测金融市场变化\n",
    "当成分类问题，根据当天热度前25的新闻文本，判断是升还是降"
   ]
  },
  {
   "cell_type": "markdown",
   "metadata": {},
   "source": [
    "# TF-IDF+SVM版"
   ]
  },
  {
   "cell_type": "code",
   "execution_count": 2,
   "metadata": {
    "ExecuteTime": {
     "end_time": "2019-07-30T08:35:53.725304Z",
     "start_time": "2019-07-30T08:35:31.666770Z"
    },
    "collapsed": false
   },
   "outputs": [],
   "source": [
    "from sklearn.feature_extraction.text import CountVectorizer, TfidfVectorizer\n",
    "import pandas as pd\n",
    "import numpy as np\n",
    "from sklearn.svm import SVC\n",
    "from sklearn.metrics import roc_auc_score,accuracy_score #用aus作为评估或者用准确率\n",
    "from datetime import date"
   ]
  },
  {
   "cell_type": "markdown",
   "metadata": {},
   "source": [
    "## 看一下数据"
   ]
  },
  {
   "cell_type": "code",
   "execution_count": 3,
   "metadata": {
    "ExecuteTime": {
     "end_time": "2019-07-30T08:35:57.979470Z",
     "start_time": "2019-07-30T08:35:57.780458Z"
    },
    "collapsed": false
   },
   "outputs": [
    {
     "data": {
      "text/html": [
       "<div>\n",
       "<table border=\"1\" class=\"dataframe\">\n",
       "  <thead>\n",
       "    <tr style=\"text-align: right;\">\n",
       "      <th></th>\n",
       "      <th>Date</th>\n",
       "      <th>Label</th>\n",
       "      <th>Top1</th>\n",
       "      <th>Top2</th>\n",
       "      <th>Top3</th>\n",
       "      <th>Top4</th>\n",
       "      <th>Top5</th>\n",
       "      <th>Top6</th>\n",
       "      <th>Top7</th>\n",
       "      <th>Top8</th>\n",
       "      <th>...</th>\n",
       "      <th>Top16</th>\n",
       "      <th>Top17</th>\n",
       "      <th>Top18</th>\n",
       "      <th>Top19</th>\n",
       "      <th>Top20</th>\n",
       "      <th>Top21</th>\n",
       "      <th>Top22</th>\n",
       "      <th>Top23</th>\n",
       "      <th>Top24</th>\n",
       "      <th>Top25</th>\n",
       "    </tr>\n",
       "  </thead>\n",
       "  <tbody>\n",
       "    <tr>\n",
       "      <th>0</th>\n",
       "      <td>2008-08-08</td>\n",
       "      <td>0</td>\n",
       "      <td>b\"Georgia 'downs two Russian warplanes' as cou...</td>\n",
       "      <td>b'BREAKING: Musharraf to be impeached.'</td>\n",
       "      <td>b'Russia Today: Columns of troops roll into So...</td>\n",
       "      <td>b'Russian tanks are moving towards the capital...</td>\n",
       "      <td>b\"Afghan children raped with 'impunity,' U.N. ...</td>\n",
       "      <td>b'150 Russian tanks have entered South Ossetia...</td>\n",
       "      <td>b\"Breaking: Georgia invades South Ossetia, Rus...</td>\n",
       "      <td>b\"The 'enemy combatent' trials are nothing but...</td>\n",
       "      <td>...</td>\n",
       "      <td>b'Georgia Invades South Ossetia - if Russia ge...</td>\n",
       "      <td>b'Al-Qaeda Faces Islamist Backlash'</td>\n",
       "      <td>b'Condoleezza Rice: \"The US would not act to p...</td>\n",
       "      <td>b'This is a busy day:  The European Union has ...</td>\n",
       "      <td>b\"Georgia will withdraw 1,000 soldiers from Ir...</td>\n",
       "      <td>b'Why the Pentagon Thinks Attacking Iran is a ...</td>\n",
       "      <td>b'Caucasus in crisis: Georgia invades South Os...</td>\n",
       "      <td>b'Indian shoe manufactory  - And again in a se...</td>\n",
       "      <td>b'Visitors Suffering from Mental Illnesses Ban...</td>\n",
       "      <td>b\"No Help for Mexico's Kidnapping Surge\"</td>\n",
       "    </tr>\n",
       "    <tr>\n",
       "      <th>1</th>\n",
       "      <td>2008-08-11</td>\n",
       "      <td>1</td>\n",
       "      <td>b'Why wont America and Nato help us? If they w...</td>\n",
       "      <td>b'Bush puts foot down on Georgian conflict'</td>\n",
       "      <td>b\"Jewish Georgian minister: Thanks to Israeli ...</td>\n",
       "      <td>b'Georgian army flees in disarray as Russians ...</td>\n",
       "      <td>b\"Olympic opening ceremony fireworks 'faked'\"</td>\n",
       "      <td>b'What were the Mossad with fraudulent New Zea...</td>\n",
       "      <td>b'Russia angered by Israeli military sale to G...</td>\n",
       "      <td>b'An American citizen living in S.Ossetia blam...</td>\n",
       "      <td>...</td>\n",
       "      <td>b'Israel and the US behind the Georgian aggres...</td>\n",
       "      <td>b'\"Do not believe TV, neither Russian nor Geor...</td>\n",
       "      <td>b'Riots are still going on in Montreal (Canada...</td>\n",
       "      <td>b'China to overtake US as largest manufacturer'</td>\n",
       "      <td>b'War in South Ossetia [PICS]'</td>\n",
       "      <td>b'Israeli Physicians Group Condemns State Tort...</td>\n",
       "      <td>b' Russia has just beaten the United States ov...</td>\n",
       "      <td>b'Perhaps *the* question about the Georgia - R...</td>\n",
       "      <td>b'Russia is so much better at war'</td>\n",
       "      <td>b\"So this is what it's come to: trading sex fo...</td>\n",
       "    </tr>\n",
       "  </tbody>\n",
       "</table>\n",
       "<p>2 rows × 27 columns</p>\n",
       "</div>"
      ],
      "text/plain": [
       "         Date  Label                                               Top1  \\\n",
       "0  2008-08-08      0  b\"Georgia 'downs two Russian warplanes' as cou...   \n",
       "1  2008-08-11      1  b'Why wont America and Nato help us? If they w...   \n",
       "\n",
       "                                          Top2  \\\n",
       "0      b'BREAKING: Musharraf to be impeached.'   \n",
       "1  b'Bush puts foot down on Georgian conflict'   \n",
       "\n",
       "                                                Top3  \\\n",
       "0  b'Russia Today: Columns of troops roll into So...   \n",
       "1  b\"Jewish Georgian minister: Thanks to Israeli ...   \n",
       "\n",
       "                                                Top4  \\\n",
       "0  b'Russian tanks are moving towards the capital...   \n",
       "1  b'Georgian army flees in disarray as Russians ...   \n",
       "\n",
       "                                                Top5  \\\n",
       "0  b\"Afghan children raped with 'impunity,' U.N. ...   \n",
       "1      b\"Olympic opening ceremony fireworks 'faked'\"   \n",
       "\n",
       "                                                Top6  \\\n",
       "0  b'150 Russian tanks have entered South Ossetia...   \n",
       "1  b'What were the Mossad with fraudulent New Zea...   \n",
       "\n",
       "                                                Top7  \\\n",
       "0  b\"Breaking: Georgia invades South Ossetia, Rus...   \n",
       "1  b'Russia angered by Israeli military sale to G...   \n",
       "\n",
       "                                                Top8  \\\n",
       "0  b\"The 'enemy combatent' trials are nothing but...   \n",
       "1  b'An American citizen living in S.Ossetia blam...   \n",
       "\n",
       "                         ...                          \\\n",
       "0                        ...                           \n",
       "1                        ...                           \n",
       "\n",
       "                                               Top16  \\\n",
       "0  b'Georgia Invades South Ossetia - if Russia ge...   \n",
       "1  b'Israel and the US behind the Georgian aggres...   \n",
       "\n",
       "                                               Top17  \\\n",
       "0                b'Al-Qaeda Faces Islamist Backlash'   \n",
       "1  b'\"Do not believe TV, neither Russian nor Geor...   \n",
       "\n",
       "                                               Top18  \\\n",
       "0  b'Condoleezza Rice: \"The US would not act to p...   \n",
       "1  b'Riots are still going on in Montreal (Canada...   \n",
       "\n",
       "                                               Top19  \\\n",
       "0  b'This is a busy day:  The European Union has ...   \n",
       "1    b'China to overtake US as largest manufacturer'   \n",
       "\n",
       "                                               Top20  \\\n",
       "0  b\"Georgia will withdraw 1,000 soldiers from Ir...   \n",
       "1                     b'War in South Ossetia [PICS]'   \n",
       "\n",
       "                                               Top21  \\\n",
       "0  b'Why the Pentagon Thinks Attacking Iran is a ...   \n",
       "1  b'Israeli Physicians Group Condemns State Tort...   \n",
       "\n",
       "                                               Top22  \\\n",
       "0  b'Caucasus in crisis: Georgia invades South Os...   \n",
       "1  b' Russia has just beaten the United States ov...   \n",
       "\n",
       "                                               Top23  \\\n",
       "0  b'Indian shoe manufactory  - And again in a se...   \n",
       "1  b'Perhaps *the* question about the Georgia - R...   \n",
       "\n",
       "                                               Top24  \\\n",
       "0  b'Visitors Suffering from Mental Illnesses Ban...   \n",
       "1                 b'Russia is so much better at war'   \n",
       "\n",
       "                                               Top25  \n",
       "0           b\"No Help for Mexico's Kidnapping Surge\"  \n",
       "1  b\"So this is what it's come to: trading sex fo...  \n",
       "\n",
       "[2 rows x 27 columns]"
      ]
     },
     "execution_count": 3,
     "metadata": {},
     "output_type": "execute_result"
    }
   ],
   "source": [
    "data = pd.read_csv('../nlp/input/Combined_News_DJIA.csv')\n",
    "data.head(2)"
   ]
  },
  {
   "cell_type": "markdown",
   "metadata": {
    "collapsed": true
   },
   "source": [
    "## 数据预处理"
   ]
  },
  {
   "cell_type": "markdown",
   "metadata": {},
   "source": [
    "### 先将25条新闻合并成一个文本"
   ]
  },
  {
   "cell_type": "code",
   "execution_count": 3,
   "metadata": {
    "ExecuteTime": {
     "end_time": "2019-07-28T14:11:41.556683Z",
     "start_time": "2019-07-28T14:11:41.009656Z"
    },
    "collapsed": true
   },
   "outputs": [],
   "source": [
    "#regex正则表达式参数：匹配出列名形如 “Top”的那些列\n",
    "#apply 对每一行进行同样的操作，这个操作是对每一列进行合并\n",
    "#join的axis=1表示左右join\n",
    "data[\"combined_news\"] = data.filter(regex=(\"Top.*\")).apply(lambda x:''.join(str(x.values)), axis=1) "
   ]
  },
  {
   "cell_type": "markdown",
   "metadata": {
    "ExecuteTime": {
     "end_time": "2019-07-26T23:01:09.352153Z",
     "start_time": "2019-07-26T23:01:09.260752Z"
    },
    "collapsed": false
   },
   "source": [
    "### 分割测试/训练集"
   ]
  },
  {
   "cell_type": "code",
   "execution_count": 4,
   "metadata": {
    "ExecuteTime": {
     "end_time": "2019-07-28T14:11:51.006218Z",
     "start_time": "2019-07-28T14:11:50.936214Z"
    },
    "collapsed": false
   },
   "outputs": [
    {
     "data": {
      "text/plain": [
       "(1611, 28)"
      ]
     },
     "execution_count": 4,
     "metadata": {},
     "output_type": "execute_result"
    }
   ],
   "source": [
    "train = data[data['Date'] < '2015-01-01']\n",
    "test = data[data['Date'] > '2014-12-31']\n",
    "train.shape"
   ]
  },
  {
   "cell_type": "markdown",
   "metadata": {},
   "source": [
    "### 将文本向量化-准备x"
   ]
  },
  {
   "cell_type": "markdown",
   "metadata": {},
   "source": [
    "fit你的model的时候，只能用training set，test set不用fit"
   ]
  },
  {
   "cell_type": "code",
   "execution_count": 5,
   "metadata": {
    "ExecuteTime": {
     "end_time": "2019-07-28T14:11:57.076030Z",
     "start_time": "2019-07-28T14:11:55.783582Z"
    },
    "collapsed": true
   },
   "outputs": [],
   "source": [
    "tf = TfidfVectorizer()\n",
    "x_train = tf.fit_transform(train[\"combined_news\"].values)"
   ]
  },
  {
   "cell_type": "code",
   "execution_count": 6,
   "metadata": {
    "ExecuteTime": {
     "end_time": "2019-07-28T14:11:58.204466Z",
     "start_time": "2019-07-28T14:11:58.199465Z"
    },
    "collapsed": false
   },
   "outputs": [
    {
     "data": {
      "text/plain": [
       "(1611, 32155)"
      ]
     },
     "execution_count": 6,
     "metadata": {},
     "output_type": "execute_result"
    }
   ],
   "source": [
    "x_train.shape"
   ]
  },
  {
   "cell_type": "code",
   "execution_count": 7,
   "metadata": {
    "ExecuteTime": {
     "end_time": "2019-07-28T14:12:00.531767Z",
     "start_time": "2019-07-28T14:12:00.294753Z"
    },
    "collapsed": false
   },
   "outputs": [
    {
     "data": {
      "text/plain": [
       "(378, 32155)"
      ]
     },
     "execution_count": 7,
     "metadata": {},
     "output_type": "execute_result"
    }
   ],
   "source": [
    "x_test = tf.transform(test[\"combined_news\"].values)\n",
    "x_test.shape"
   ]
  },
  {
   "cell_type": "markdown",
   "metadata": {
    "ExecuteTime": {
     "end_time": "2019-07-27T18:42:48.445428Z",
     "start_time": "2019-07-27T18:42:48.198417Z"
    }
   },
   "source": [
    "### 准备y"
   ]
  },
  {
   "cell_type": "code",
   "execution_count": 8,
   "metadata": {
    "ExecuteTime": {
     "end_time": "2019-07-28T14:12:05.543100Z",
     "start_time": "2019-07-28T14:12:05.524500Z"
    },
    "collapsed": true
   },
   "outputs": [],
   "source": [
    "y_train = train[\"Label\"].values\n",
    "y_test = test[\"Label\"].values"
   ]
  },
  {
   "cell_type": "markdown",
   "metadata": {},
   "source": [
    "## 搭模型"
   ]
  },
  {
   "cell_type": "code",
   "execution_count": 9,
   "metadata": {
    "ExecuteTime": {
     "end_time": "2019-07-27T21:59:30.337643Z",
     "start_time": "2019-07-27T21:59:21.982562Z"
    },
    "collapsed": false
   },
   "outputs": [
    {
     "name": "stderr",
     "output_type": "stream",
     "text": [
      "D:\\Anaconda\\lib\\site-packages\\sklearn\\svm\\base.py:193: FutureWarning: The default value of gamma will change from 'auto' to 'scale' in version 0.22 to account better for unscaled features. Set gamma explicitly to 'auto' or 'scale' to avoid this warning.\n",
      "  \"avoid this warning.\", FutureWarning)\n"
     ]
    },
    {
     "data": {
      "text/plain": [
       "SVC(C=1.0, cache_size=200, class_weight=None, coef0=0.0,\n",
       "    decision_function_shape='ovr', degree=3, gamma='auto_deprecated',\n",
       "    kernel='rbf', max_iter=-1, probability=False, random_state=None,\n",
       "    shrinking=True, tol=0.001, verbose=False)"
      ]
     },
     "execution_count": 9,
     "metadata": {},
     "output_type": "execute_result"
    }
   ],
   "source": [
    "svm = SVC()\n",
    "svm.fit(x_train,y_train)"
   ]
  },
  {
   "cell_type": "code",
   "execution_count": 20,
   "metadata": {
    "ExecuteTime": {
     "end_time": "2019-07-27T18:48:39.851902Z",
     "start_time": "2019-07-27T18:48:37.941839Z"
    },
    "collapsed": true
   },
   "outputs": [],
   "source": [
    "y_pre = svm.predict(x_test)"
   ]
  },
  {
   "cell_type": "code",
   "execution_count": 38,
   "metadata": {
    "ExecuteTime": {
     "end_time": "2019-07-27T18:56:50.060675Z",
     "start_time": "2019-07-27T18:56:50.051674Z"
    },
    "collapsed": false
   },
   "outputs": [
    {
     "data": {
      "text/plain": [
       "0.5079365079365079"
      ]
     },
     "execution_count": 38,
     "metadata": {},
     "output_type": "execute_result"
    }
   ],
   "source": [
    "accuracy_score(y_test,y_pre)"
   ]
  },
  {
   "cell_type": "code",
   "execution_count": 41,
   "metadata": {
    "ExecuteTime": {
     "end_time": "2019-07-27T18:57:57.088475Z",
     "start_time": "2019-07-27T18:57:57.080475Z"
    },
    "collapsed": false
   },
   "outputs": [
    {
     "data": {
      "text/plain": [
       "0.5"
      ]
     },
     "execution_count": 41,
     "metadata": {},
     "output_type": "execute_result"
    }
   ],
   "source": [
    "roc_auc_score(y_test,y_pre)"
   ]
  },
  {
   "cell_type": "markdown",
   "metadata": {},
   "source": [
    "# 进阶版"
   ]
  },
  {
   "cell_type": "markdown",
   "metadata": {},
   "source": [
    "在预处理时将文本的停止词等去除，只留下有用的单词"
   ]
  },
  {
   "cell_type": "markdown",
   "metadata": {},
   "source": [
    "## 预处理"
   ]
  },
  {
   "cell_type": "markdown",
   "metadata": {},
   "source": [
    "### 分词tokenize"
   ]
  },
  {
   "cell_type": "code",
   "execution_count": 9,
   "metadata": {
    "ExecuteTime": {
     "end_time": "2019-07-28T14:12:19.429600Z",
     "start_time": "2019-07-28T14:12:19.422599Z"
    },
    "collapsed": false
   },
   "outputs": [
    {
     "data": {
      "text/plain": [
       "0    ['b\"Georgia \\'downs two Russian warplanes\\' as...\n",
       "1    [\"b'Why wont America and Nato help us? If they...\n",
       "2    [\"b'Remember that adorable 9-year-old who sang...\n",
       "3    [\"b' U.S. refuses Israel weapons to attack Ira...\n",
       "4    [\"b'All the experts admit that we should legal...\n",
       "Name: combined_news, dtype: object"
      ]
     },
     "execution_count": 9,
     "metadata": {},
     "output_type": "execute_result"
    }
   ],
   "source": [
    "train[\"combined_news\"].head()"
   ]
  },
  {
   "cell_type": "code",
   "execution_count": 11,
   "metadata": {
    "ExecuteTime": {
     "end_time": "2019-07-28T14:14:31.896179Z",
     "start_time": "2019-07-28T14:14:31.697970Z"
    },
    "collapsed": false
   },
   "outputs": [
    {
     "data": {
      "text/plain": [
       "0    [[, b, georgia, downs, two, russian, warplanes...\n",
       "1    [[, b, why, wont, america, and, nato, help, us...\n",
       "2    [[, b, remember, that, adorable, 9-year-old, w...\n",
       "3    [[, b, u.s., refuses, israel, weapons, to, att...\n",
       "4    [[, b, all, the, experts, admit, that, we, sho...\n",
       "Name: combined_news, dtype: object"
      ]
     },
     "execution_count": 11,
     "metadata": {},
     "output_type": "execute_result"
    }
   ],
   "source": [
    "#去除反斜杠要转义一下\n",
    "x_train = train[\"combined_news\"].str.lower().str.replace('\"',' ').str.replace(\"'\",' ').str.replace(\"\\\\\",'').str.split()\n",
    "x_train.head()"
   ]
  },
  {
   "cell_type": "code",
   "execution_count": 12,
   "metadata": {
    "ExecuteTime": {
     "end_time": "2019-07-28T14:14:44.585615Z",
     "start_time": "2019-07-28T14:14:44.582614Z"
    },
    "collapsed": false
   },
   "outputs": [
    {
     "name": "stdout",
     "output_type": "stream",
     "text": [
      "['[', 'b', 'why', 'wont', 'america', 'and', 'nato', 'help', 'us?', 'if', 'they', 'wont', 'help', 'us', 'now,', 'why', 'did', 'we', 'help', 'them', 'in', 'iraq?', 'b', 'bush', 'puts', 'foot', 'down', 'on', 'georgian', 'conflict', 'b', 'jewish', 'georgian', 'minister:', 'thanks', 'to', 'israeli', 'training,', 'we', 're', 'fending', 'off', 'russia', 'b', 'georgian', 'army', 'flees', 'in', 'disarray', 'as', 'russians', 'advance', '-', 'gori', 'abandoned', 'to', 'russia', 'without', 'a', 'shot', 'fired', 'b', 'olympic', 'opening', 'ceremony', 'fireworks', 'faked', 'b', 'what', 'were', 'the', 'mossad', 'with', 'fraudulent', 'new', 'zealand', 'passports', 'doing', 'in', 'iraq?', 'b', 'russia', 'angered', 'by', 'israeli', 'military', 'sale', 'to', 'georgia', 'b', 'an', 'american', 'citizen', 'living', 'in', 's.ossetia', 'blames', 'u.s.', 'and', 'georgian', 'leaders', 'for', 'the', 'genocide', 'of', 'innocent', 'people', 'b', 'welcome', 'to', 'world', 'war', 'iv!', 'now', 'in', 'high', 'definition!', 'b', 'georgia', 's', 'move,', 'a', 'mistake', 'of', 'monumental', 'proportions', 'b', 'russia', 'presses', 'deeper', 'into', 'georgia;', 'u.s.', 'says', 'regime', 'change', 'is', 'goal', 'b', 'abhinav', 'bindra', 'wins', 'first', 'ever', 'individual', 'olympic', 'gold', 'medal', 'for', 'india', 'b', 'u.s.', 'ship', 'heads', 'for', 'arctic', 'to', 'define', 'territory', 'b', 'drivers', 'in', 'a', 'jerusalem', 'taxi', 'station', 'threaten', 'to', 'quit', 'rather', 'than', 'work', 'for', 'their', 'new', 'boss', '-', 'an', 'arab', 'b', 'the', 'french', 'team', 'is', 'stunned', 'by', 'phelps', 'and', 'the', '4x100m', 'relay', 'team', 'b', 'israel', 'and', 'the', 'us', 'behind', 'the', 'georgian', 'aggression?', 'b', 'do', 'not', 'believe', 'tv,', 'neither', 'russian', 'nor', 'georgian.', 'there', 'are', 'much', 'more', 'victims', 'b', 'riots', 'are', 'still', 'going', 'on', 'in', 'montreal', '(canada)', 'because', 'police', 'murdered', 'a', 'boy', 'on', 'saturday.', 'b', 'china', 'to', 'overtake', 'us', 'as', 'largest', 'manufacturer', 'b', 'war', 'in', 'south', 'ossetia', '[pics]', 'b', 'israeli', 'physicians', 'group', 'condemns', 'state', 'torture', 'b', 'russia', 'has', 'just', 'beaten', 'the', 'united', 'states', 'over', 'the', 'head', 'with', 'peak', 'oil', 'b', 'perhaps', '*the*', 'question', 'about', 'the', 'georgia', '-', 'russia', 'conflict', 'b', 'russia', 'is', 'so', 'much', 'better', 'at', 'war', 'b', 'so', 'this', 'is', 'what', 'it', 's', 'come', 'to:', 'trading', 'sex', 'for', 'food.', ']']\n"
     ]
    }
   ],
   "source": [
    "print(x_train[1])"
   ]
  },
  {
   "cell_type": "code",
   "execution_count": 13,
   "metadata": {
    "ExecuteTime": {
     "end_time": "2019-07-28T14:15:35.062538Z",
     "start_time": "2019-07-28T14:15:34.999534Z"
    },
    "collapsed": false
   },
   "outputs": [],
   "source": [
    "x_test = test[\"combined_news\"].str.lower().str.replace('\"',' ').str.replace(\"'\",' ').str.replace(\"\\\\\",'').str.split()"
   ]
  },
  {
   "cell_type": "markdown",
   "metadata": {},
   "source": [
    "### 停止词"
   ]
  },
  {
   "cell_type": "code",
   "execution_count": 14,
   "metadata": {
    "ExecuteTime": {
     "end_time": "2019-07-28T14:16:10.729837Z",
     "start_time": "2019-07-28T14:16:03.707134Z"
    },
    "collapsed": false
   },
   "outputs": [],
   "source": [
    "import nltk\n",
    "#nltk.download()"
   ]
  },
  {
   "cell_type": "code",
   "execution_count": 15,
   "metadata": {
    "ExecuteTime": {
     "end_time": "2019-07-28T14:16:10.865638Z",
     "start_time": "2019-07-28T14:16:10.729837Z"
    },
    "collapsed": false
   },
   "outputs": [],
   "source": [
    "#先获取停止词列表\n",
    "from nltk.corpus import stopwords\n",
    "stop = stopwords.words('english')"
   ]
  },
  {
   "cell_type": "markdown",
   "metadata": {},
   "source": [
    "### lemma"
   ]
  },
  {
   "cell_type": "code",
   "execution_count": 16,
   "metadata": {
    "ExecuteTime": {
     "end_time": "2019-07-28T14:16:10.912641Z",
     "start_time": "2019-07-28T14:16:10.873638Z"
    },
    "collapsed": false
   },
   "outputs": [],
   "source": [
    "from nltk.stem import WordNetLemmatizer\n",
    "lemma = WordNetLemmatizer()"
   ]
  },
  {
   "cell_type": "markdown",
   "metadata": {},
   "source": [
    "### 数字"
   ]
  },
  {
   "cell_type": "code",
   "execution_count": 17,
   "metadata": {
    "ExecuteTime": {
     "end_time": "2019-07-28T14:16:19.672141Z",
     "start_time": "2019-07-28T14:16:19.640941Z"
    },
    "collapsed": false
   },
   "outputs": [],
   "source": [
    "#re.search()匹配正则表达式\n",
    "#r'\\d' 匹配任何十进制数 r表示不用对反斜杠转义\n",
    "import re\n",
    "def hasNumbers(inputString):\n",
    "    return bool(re.search(r'\\d', inputString))\n",
    "#hasNumbers(\"3\")"
   ]
  },
  {
   "cell_type": "markdown",
   "metadata": {},
   "source": [
    "合成一个函数"
   ]
  },
  {
   "cell_type": "code",
   "execution_count": 18,
   "metadata": {
    "ExecuteTime": {
     "end_time": "2019-07-28T14:16:25.940486Z",
     "start_time": "2019-07-28T14:16:25.932485Z"
    },
    "collapsed": true
   },
   "outputs": [],
   "source": [
    "\"\"\"\n",
    "    如果需要这个单词，则True\n",
    "    如果应该去除，则False\n",
    "    \"\"\"\n",
    "def check(word):\n",
    "    if word in stop:\n",
    "        return False\n",
    "    elif hasNumbers(word):\n",
    "        return False\n",
    "    else:\n",
    "        return True"
   ]
  },
  {
   "cell_type": "markdown",
   "metadata": {},
   "source": [
    "### 去除停用词、数字、lemma"
   ]
  },
  {
   "cell_type": "markdown",
   "metadata": {},
   "source": [
    "列表推导式:<br>\n",
    "variable = [out_exp for out_exp in input_list if out_exp == 2]\n",
    "如果ｔｒｕｅ的话就返回列表的一个元素"
   ]
  },
  {
   "cell_type": "code",
   "execution_count": 19,
   "metadata": {
    "ExecuteTime": {
     "end_time": "2019-07-28T14:16:42.402111Z",
     "start_time": "2019-07-28T14:16:30.918223Z"
    },
    "collapsed": false
   },
   "outputs": [
    {
     "data": {
      "text/plain": [
       "0    [[, b, georgia, down, two, russian, warplane, ...\n",
       "1    [[, b, wont, america, nato, help, us?, wont, h...\n",
       "2    [[, b, remember, adorable, sang, opening, cere...\n",
       "3    [[, b, u.s., refuse, israel, weapon, attack, i...\n",
       "4    [[, b, expert, admit, legalise, drug, b, war, ...\n",
       "Name: combined_news, dtype: object"
      ]
     },
     "execution_count": 19,
     "metadata": {},
     "output_type": "execute_result"
    }
   ],
   "source": [
    "#对dataframe中每一个x进行同样的操作\n",
    "#返回给x一个list\n",
    "x_train = x_train.apply(lambda x: [lemma.lemmatize(item) for item in x if check(item)])\n",
    "x_train.head()"
   ]
  },
  {
   "cell_type": "code",
   "execution_count": 20,
   "metadata": {
    "ExecuteTime": {
     "end_time": "2019-07-28T14:16:52.106488Z",
     "start_time": "2019-07-28T14:16:50.156842Z"
    },
    "collapsed": false
   },
   "outputs": [],
   "source": [
    "x_test = x_test.apply(lambda x: [lemma.lemmatize(item) for item in x if check(item)])"
   ]
  },
  {
   "cell_type": "markdown",
   "metadata": {},
   "source": [
    "### list转str用join（）\n",
    "因为外部库，比如sklearn 只支持string输入，所以我们把调整后的list再变回string"
   ]
  },
  {
   "cell_type": "code",
   "execution_count": 21,
   "metadata": {
    "ExecuteTime": {
     "end_time": "2019-07-28T14:16:56.001395Z",
     "start_time": "2019-07-28T14:16:55.973394Z"
    },
    "collapsed": false
   },
   "outputs": [],
   "source": [
    "x_train = x_train.apply(lambda x:' '.join(x))\n",
    "x_test = x_test.apply(lambda x:' '.join(x))"
   ]
  },
  {
   "cell_type": "code",
   "execution_count": 22,
   "metadata": {
    "ExecuteTime": {
     "end_time": "2019-07-28T14:16:58.856304Z",
     "start_time": "2019-07-28T14:16:58.852304Z"
    },
    "collapsed": false
   },
   "outputs": [
    {
     "name": "stdout",
     "output_type": "stream",
     "text": [
      "[ b wont america nato help us? wont help u now, help iraq? b bush put foot georgian conflict b jewish georgian minister: thanks israeli training, fending russia b georgian army flees disarray russian advance - gori abandoned russia without shot fired b olympic opening ceremony firework faked b mossad fraudulent new zealand passport iraq? b russia angered israeli military sale georgia b american citizen living s.ossetia blame u.s. georgian leader genocide innocent people b welcome world war iv! high definition! b georgia move, mistake monumental proportion b russia press deeper georgia; u.s. say regime change goal b abhinav bindra win first ever individual olympic gold medal india b u.s. ship head arctic define territory b driver jerusalem taxi station threaten quit rather work new bos - arab b french team stunned phelps relay team b israel u behind georgian aggression? b believe tv, neither russian georgian. much victim b riot still going montreal (canada) police murdered boy saturday. b china overtake u largest manufacturer b war south ossetia [pics] b israeli physician group condemns state torture b russia beaten united state head peak oil b perhaps *the* question georgia - russia conflict b russia much better war b come to: trading sex food. ]\n"
     ]
    }
   ],
   "source": [
    "print(x_train[1])"
   ]
  },
  {
   "cell_type": "code",
   "execution_count": 23,
   "metadata": {
    "ExecuteTime": {
     "end_time": "2019-07-28T14:17:10.131866Z",
     "start_time": "2019-07-28T14:17:10.124865Z"
    },
    "collapsed": false
   },
   "outputs": [
    {
     "data": {
      "text/plain": [
       "0    [ b georgia down two russian warplane country ...\n",
       "1    [ b wont america nato help us? wont help u now...\n",
       "2    [ b remember adorable sang opening ceremonies?...\n",
       "3    [ b u.s. refuse israel weapon attack iran: rep...\n",
       "4    [ b expert admit legalise drug b war south ose...\n",
       "Name: combined_news, dtype: object"
      ]
     },
     "execution_count": 23,
     "metadata": {},
     "output_type": "execute_result"
    }
   ],
   "source": [
    "x_train.head()"
   ]
  },
  {
   "cell_type": "code",
   "execution_count": 24,
   "metadata": {
    "ExecuteTime": {
     "end_time": "2019-07-28T14:17:15.872646Z",
     "start_time": "2019-07-28T14:17:15.045202Z"
    },
    "collapsed": false
   },
   "outputs": [],
   "source": [
    "tf_idf = TfidfVectorizer(lowercase=False)\n",
    "x_train = tf_idf.fit_transform(x_train.values)"
   ]
  },
  {
   "cell_type": "code",
   "execution_count": 25,
   "metadata": {
    "ExecuteTime": {
     "end_time": "2019-07-28T14:17:17.457323Z",
     "start_time": "2019-07-28T14:17:17.441723Z"
    },
    "collapsed": false
   },
   "outputs": [
    {
     "data": {
      "text/plain": [
       "(1611, 29450)"
      ]
     },
     "execution_count": 25,
     "metadata": {},
     "output_type": "execute_result"
    }
   ],
   "source": [
    "x_train.shape"
   ]
  },
  {
   "cell_type": "code",
   "execution_count": 26,
   "metadata": {
    "ExecuteTime": {
     "end_time": "2019-07-28T14:17:20.498445Z",
     "start_time": "2019-07-28T14:17:20.317435Z"
    },
    "collapsed": false
   },
   "outputs": [
    {
     "data": {
      "text/plain": [
       "(378, 29450)"
      ]
     },
     "execution_count": 26,
     "metadata": {},
     "output_type": "execute_result"
    }
   ],
   "source": [
    "#注意测试集只能transform，不然和训练集维度不一样\n",
    "x_test = tf_idf.transform(x_test.values)\n",
    "x_test.shape"
   ]
  },
  {
   "cell_type": "code",
   "execution_count": 37,
   "metadata": {
    "ExecuteTime": {
     "end_time": "2019-07-28T14:41:26.904567Z",
     "start_time": "2019-07-28T14:41:19.360839Z"
    },
    "collapsed": false
   },
   "outputs": [
    {
     "data": {
      "text/plain": [
       "SVC(C=1.0, cache_size=200, class_weight=None, coef0=0.0,\n",
       "    decision_function_shape='ovr', degree=3, gamma='auto_deprecated',\n",
       "    kernel='linear', max_iter=-1, probability=False, random_state=None,\n",
       "    shrinking=True, tol=0.001, verbose=False)"
      ]
     },
     "execution_count": 37,
     "metadata": {},
     "output_type": "execute_result"
    }
   ],
   "source": [
    "svm2 = SVC(kernel='linear')\n",
    "svm2.fit(x_train,y_train)"
   ]
  },
  {
   "cell_type": "code",
   "execution_count": 38,
   "metadata": {
    "ExecuteTime": {
     "end_time": "2019-07-28T14:41:39.790789Z",
     "start_time": "2019-07-28T14:41:32.531013Z"
    },
    "collapsed": false
   },
   "outputs": [
    {
     "data": {
      "text/plain": [
       "0.9863438857852266"
      ]
     },
     "execution_count": 38,
     "metadata": {},
     "output_type": "execute_result"
    }
   ],
   "source": [
    "svm2.score(x_train,y_train)"
   ]
  },
  {
   "cell_type": "code",
   "execution_count": 39,
   "metadata": {
    "ExecuteTime": {
     "end_time": "2019-07-28T14:41:42.247288Z",
     "start_time": "2019-07-28T14:41:40.469018Z"
    },
    "collapsed": true
   },
   "outputs": [],
   "source": [
    "y_pre = svm2.predict(x_test)"
   ]
  },
  {
   "cell_type": "code",
   "execution_count": 40,
   "metadata": {
    "ExecuteTime": {
     "end_time": "2019-07-28T14:41:44.842203Z",
     "start_time": "2019-07-28T14:41:44.836203Z"
    },
    "collapsed": false
   },
   "outputs": [
    {
     "data": {
      "text/plain": [
       "0.48677248677248675"
      ]
     },
     "execution_count": 40,
     "metadata": {},
     "output_type": "execute_result"
    }
   ],
   "source": [
    "accuracy_score(y_test,y_pre)"
   ]
  },
  {
   "cell_type": "code",
   "execution_count": 36,
   "metadata": {
    "ExecuteTime": {
     "end_time": "2019-07-28T14:38:40.822065Z",
     "start_time": "2019-07-28T14:38:40.814065Z"
    },
    "collapsed": false
   },
   "outputs": [
    {
     "data": {
      "text/plain": [
       "0.48311491935483863"
      ]
     },
     "execution_count": 36,
     "metadata": {},
     "output_type": "execute_result"
    }
   ],
   "source": [
    "roc_auc_score(y_test,y_pre)"
   ]
  },
  {
   "cell_type": "markdown",
   "metadata": {},
   "source": [
    "## overfitting了<br>\n",
    "### 做网格搜索+交叉验证"
   ]
  },
  {
   "cell_type": "code",
   "execution_count": 72,
   "metadata": {
    "ExecuteTime": {
     "end_time": "2019-07-28T15:57:12.278964Z",
     "start_time": "2019-07-28T15:56:57.404335Z"
    },
    "collapsed": false
   },
   "outputs": [
    {
     "data": {
      "text/plain": [
       "array([0.50465549, 0.51210428, 0.52700186])"
      ]
     },
     "execution_count": 72,
     "metadata": {},
     "output_type": "execute_result"
    }
   ],
   "source": [
    "from sklearn.model_selection import cross_val_score\n",
    "cross_val_score(svm2,x_train, y_train,cv=3)"
   ]
  },
  {
   "cell_type": "code",
   "execution_count": 42,
   "metadata": {
    "ExecuteTime": {
     "end_time": "2019-07-28T15:15:17.982993Z",
     "start_time": "2019-07-28T15:15:17.974993Z"
    },
    "collapsed": false
   },
   "outputs": [],
   "source": [
    "from sklearn.model_selection import GridSearchCV\n",
    "\n",
    "param_grid = {'C': [0.001, 0.01, 0.1, 1, 10, 100],\n",
    "              'gamma': [0.001, 0.01, 0.1, 1, 10, 100]}\n",
    "\n",
    "grid_search = GridSearchCV(svm2, param_grid, cv=5)"
   ]
  },
  {
   "cell_type": "code",
   "execution_count": 43,
   "metadata": {
    "ExecuteTime": {
     "end_time": "2019-07-28T15:33:07.014878Z",
     "start_time": "2019-07-28T15:15:20.855700Z"
    },
    "collapsed": false
   },
   "outputs": [
    {
     "data": {
      "text/plain": [
       "GridSearchCV(cv=5, error_score='raise-deprecating',\n",
       "             estimator=SVC(C=1.0, cache_size=200, class_weight=None, coef0=0.0,\n",
       "                           decision_function_shape='ovr', degree=3,\n",
       "                           gamma='auto_deprecated', kernel='linear',\n",
       "                           max_iter=-1, probability=False, random_state=None,\n",
       "                           shrinking=True, tol=0.001, verbose=False),\n",
       "             iid='warn', n_jobs=None,\n",
       "             param_grid={'C': [0.001, 0.01, 0.1, 1, 10, 100],\n",
       "                         'gamma': [0.001, 0.01, 0.1, 1, 10, 100]},\n",
       "             pre_dispatch='2*n_jobs', refit=True, return_train_score=False,\n",
       "             scoring=None, verbose=0)"
      ]
     },
     "execution_count": 43,
     "metadata": {},
     "output_type": "execute_result"
    }
   ],
   "source": [
    "grid_search.fit(x_train, y_train)"
   ]
  },
  {
   "cell_type": "code",
   "execution_count": 44,
   "metadata": {
    "ExecuteTime": {
     "end_time": "2019-07-28T15:33:27.425215Z",
     "start_time": "2019-07-28T15:33:27.420215Z"
    },
    "collapsed": false
   },
   "outputs": [
    {
     "data": {
      "text/plain": [
       "{'C': 0.001, 'gamma': 0.001}"
      ]
     },
     "execution_count": 44,
     "metadata": {},
     "output_type": "execute_result"
    }
   ],
   "source": [
    "grid_search.best_params_"
   ]
  },
  {
   "cell_type": "code",
   "execution_count": 45,
   "metadata": {
    "ExecuteTime": {
     "end_time": "2019-07-28T15:33:41.890132Z",
     "start_time": "2019-07-28T15:33:41.885131Z"
    },
    "collapsed": false
   },
   "outputs": [
    {
     "data": {
      "text/plain": [
       "0.5418994413407822"
      ]
     },
     "execution_count": 45,
     "metadata": {},
     "output_type": "execute_result"
    }
   ],
   "source": [
    "grid_search.best_score_"
   ]
  },
  {
   "cell_type": "code",
   "execution_count": 47,
   "metadata": {
    "ExecuteTime": {
     "end_time": "2019-07-28T15:35:28.707503Z",
     "start_time": "2019-07-28T15:35:28.701503Z"
    },
    "collapsed": false
   },
   "outputs": [
    {
     "data": {
      "text/plain": [
       "SVC(C=0.001, cache_size=200, class_weight=None, coef0=0.0,\n",
       "    decision_function_shape='ovr', degree=3, gamma=0.001, kernel='linear',\n",
       "    max_iter=-1, probability=False, random_state=None, shrinking=True,\n",
       "    tol=0.001, verbose=False)"
      ]
     },
     "execution_count": 47,
     "metadata": {},
     "output_type": "execute_result"
    }
   ],
   "source": [
    "grid_search.best_estimator_"
   ]
  },
  {
   "cell_type": "code",
   "execution_count": 63,
   "metadata": {
    "ExecuteTime": {
     "end_time": "2019-07-28T15:42:50.661468Z",
     "start_time": "2019-07-28T15:42:36.625943Z"
    },
    "collapsed": false
   },
   "outputs": [
    {
     "data": {
      "text/plain": [
       "0.5418994413407822"
      ]
     },
     "execution_count": 63,
     "metadata": {},
     "output_type": "execute_result"
    }
   ],
   "source": [
    "svm3 = SVC(C=0.001, gamma=0.001, kernel='linear')\n",
    "svm3.fit(x_train,y_train)\n",
    "svm3.score(x_train,y_train)"
   ]
  },
  {
   "cell_type": "code",
   "execution_count": 64,
   "metadata": {
    "ExecuteTime": {
     "end_time": "2019-07-28T15:42:53.173146Z",
     "start_time": "2019-07-28T15:42:51.498499Z"
    },
    "collapsed": false
   },
   "outputs": [
    {
     "data": {
      "text/plain": [
       "0.5079365079365079"
      ]
     },
     "execution_count": 64,
     "metadata": {},
     "output_type": "execute_result"
    }
   ],
   "source": [
    "y_pre = svm3.predict(x_test)\n",
    "accuracy_score(y_test,y_pre)"
   ]
  },
  {
   "cell_type": "markdown",
   "metadata": {},
   "source": [
    "### 可以考虑换模型"
   ]
  },
  {
   "cell_type": "code",
   "execution_count": 73,
   "metadata": {
    "ExecuteTime": {
     "end_time": "2019-07-28T15:59:26.519430Z",
     "start_time": "2019-07-28T15:59:26.514429Z"
    },
    "collapsed": false
   },
   "outputs": [],
   "source": [
    "from sklearn.linear_model import LogisticRegression\n",
    "lr = LogisticRegression(penalty='l1',C=1)"
   ]
  },
  {
   "cell_type": "code",
   "execution_count": 74,
   "metadata": {
    "ExecuteTime": {
     "end_time": "2019-07-28T15:59:34.507304Z",
     "start_time": "2019-07-28T15:59:34.306293Z"
    },
    "collapsed": false
   },
   "outputs": [
    {
     "name": "stderr",
     "output_type": "stream",
     "text": [
      "D:\\Anaconda\\lib\\site-packages\\sklearn\\linear_model\\logistic.py:432: FutureWarning: Default solver will be changed to 'lbfgs' in 0.22. Specify a solver to silence this warning.\n",
      "  FutureWarning)\n"
     ]
    },
    {
     "data": {
      "text/plain": [
       "array([0.54189944, 0.54189944, 0.54189944])"
      ]
     },
     "execution_count": 74,
     "metadata": {},
     "output_type": "execute_result"
    }
   ],
   "source": [
    "cross_val_score(lr,x_train, y_train,cv=3)"
   ]
  },
  {
   "cell_type": "markdown",
   "metadata": {},
   "source": [
    "# 再进阶word2vec"
   ]
  },
  {
   "cell_type": "code",
   "execution_count": 26,
   "metadata": {
    "ExecuteTime": {
     "end_time": "2019-07-29T21:26:53.565561Z",
     "start_time": "2019-07-29T21:26:53.531559Z"
    },
    "collapsed": false
   },
   "outputs": [
    {
     "data": {
      "text/html": [
       "<div>\n",
       "<table border=\"1\" class=\"dataframe\">\n",
       "  <thead>\n",
       "    <tr style=\"text-align: right;\">\n",
       "      <th></th>\n",
       "      <th>Date</th>\n",
       "      <th>Label</th>\n",
       "      <th>Top1</th>\n",
       "      <th>Top2</th>\n",
       "      <th>Top3</th>\n",
       "      <th>Top4</th>\n",
       "      <th>Top5</th>\n",
       "      <th>Top6</th>\n",
       "      <th>Top7</th>\n",
       "      <th>Top8</th>\n",
       "      <th>...</th>\n",
       "      <th>Top16</th>\n",
       "      <th>Top17</th>\n",
       "      <th>Top18</th>\n",
       "      <th>Top19</th>\n",
       "      <th>Top20</th>\n",
       "      <th>Top21</th>\n",
       "      <th>Top22</th>\n",
       "      <th>Top23</th>\n",
       "      <th>Top24</th>\n",
       "      <th>Top25</th>\n",
       "    </tr>\n",
       "  </thead>\n",
       "  <tbody>\n",
       "    <tr>\n",
       "      <th>0</th>\n",
       "      <td>2008-08-08</td>\n",
       "      <td>0</td>\n",
       "      <td>b\"Georgia 'downs two Russian warplanes' as cou...</td>\n",
       "      <td>b'BREAKING: Musharraf to be impeached.'</td>\n",
       "      <td>b'Russia Today: Columns of troops roll into So...</td>\n",
       "      <td>b'Russian tanks are moving towards the capital...</td>\n",
       "      <td>b\"Afghan children raped with 'impunity,' U.N. ...</td>\n",
       "      <td>b'150 Russian tanks have entered South Ossetia...</td>\n",
       "      <td>b\"Breaking: Georgia invades South Ossetia, Rus...</td>\n",
       "      <td>b\"The 'enemy combatent' trials are nothing but...</td>\n",
       "      <td>...</td>\n",
       "      <td>b'Georgia Invades South Ossetia - if Russia ge...</td>\n",
       "      <td>b'Al-Qaeda Faces Islamist Backlash'</td>\n",
       "      <td>b'Condoleezza Rice: \"The US would not act to p...</td>\n",
       "      <td>b'This is a busy day:  The European Union has ...</td>\n",
       "      <td>b\"Georgia will withdraw 1,000 soldiers from Ir...</td>\n",
       "      <td>b'Why the Pentagon Thinks Attacking Iran is a ...</td>\n",
       "      <td>b'Caucasus in crisis: Georgia invades South Os...</td>\n",
       "      <td>b'Indian shoe manufactory  - And again in a se...</td>\n",
       "      <td>b'Visitors Suffering from Mental Illnesses Ban...</td>\n",
       "      <td>b\"No Help for Mexico's Kidnapping Surge\"</td>\n",
       "    </tr>\n",
       "    <tr>\n",
       "      <th>1</th>\n",
       "      <td>2008-08-11</td>\n",
       "      <td>1</td>\n",
       "      <td>b'Why wont America and Nato help us? If they w...</td>\n",
       "      <td>b'Bush puts foot down on Georgian conflict'</td>\n",
       "      <td>b\"Jewish Georgian minister: Thanks to Israeli ...</td>\n",
       "      <td>b'Georgian army flees in disarray as Russians ...</td>\n",
       "      <td>b\"Olympic opening ceremony fireworks 'faked'\"</td>\n",
       "      <td>b'What were the Mossad with fraudulent New Zea...</td>\n",
       "      <td>b'Russia angered by Israeli military sale to G...</td>\n",
       "      <td>b'An American citizen living in S.Ossetia blam...</td>\n",
       "      <td>...</td>\n",
       "      <td>b'Israel and the US behind the Georgian aggres...</td>\n",
       "      <td>b'\"Do not believe TV, neither Russian nor Geor...</td>\n",
       "      <td>b'Riots are still going on in Montreal (Canada...</td>\n",
       "      <td>b'China to overtake US as largest manufacturer'</td>\n",
       "      <td>b'War in South Ossetia [PICS]'</td>\n",
       "      <td>b'Israeli Physicians Group Condemns State Tort...</td>\n",
       "      <td>b' Russia has just beaten the United States ov...</td>\n",
       "      <td>b'Perhaps *the* question about the Georgia - R...</td>\n",
       "      <td>b'Russia is so much better at war'</td>\n",
       "      <td>b\"So this is what it's come to: trading sex fo...</td>\n",
       "    </tr>\n",
       "  </tbody>\n",
       "</table>\n",
       "<p>2 rows × 27 columns</p>\n",
       "</div>"
      ],
      "text/plain": [
       "         Date  Label                                               Top1  \\\n",
       "0  2008-08-08      0  b\"Georgia 'downs two Russian warplanes' as cou...   \n",
       "1  2008-08-11      1  b'Why wont America and Nato help us? If they w...   \n",
       "\n",
       "                                          Top2  \\\n",
       "0      b'BREAKING: Musharraf to be impeached.'   \n",
       "1  b'Bush puts foot down on Georgian conflict'   \n",
       "\n",
       "                                                Top3  \\\n",
       "0  b'Russia Today: Columns of troops roll into So...   \n",
       "1  b\"Jewish Georgian minister: Thanks to Israeli ...   \n",
       "\n",
       "                                                Top4  \\\n",
       "0  b'Russian tanks are moving towards the capital...   \n",
       "1  b'Georgian army flees in disarray as Russians ...   \n",
       "\n",
       "                                                Top5  \\\n",
       "0  b\"Afghan children raped with 'impunity,' U.N. ...   \n",
       "1      b\"Olympic opening ceremony fireworks 'faked'\"   \n",
       "\n",
       "                                                Top6  \\\n",
       "0  b'150 Russian tanks have entered South Ossetia...   \n",
       "1  b'What were the Mossad with fraudulent New Zea...   \n",
       "\n",
       "                                                Top7  \\\n",
       "0  b\"Breaking: Georgia invades South Ossetia, Rus...   \n",
       "1  b'Russia angered by Israeli military sale to G...   \n",
       "\n",
       "                                                Top8  \\\n",
       "0  b\"The 'enemy combatent' trials are nothing but...   \n",
       "1  b'An American citizen living in S.Ossetia blam...   \n",
       "\n",
       "                         ...                          \\\n",
       "0                        ...                           \n",
       "1                        ...                           \n",
       "\n",
       "                                               Top16  \\\n",
       "0  b'Georgia Invades South Ossetia - if Russia ge...   \n",
       "1  b'Israel and the US behind the Georgian aggres...   \n",
       "\n",
       "                                               Top17  \\\n",
       "0                b'Al-Qaeda Faces Islamist Backlash'   \n",
       "1  b'\"Do not believe TV, neither Russian nor Geor...   \n",
       "\n",
       "                                               Top18  \\\n",
       "0  b'Condoleezza Rice: \"The US would not act to p...   \n",
       "1  b'Riots are still going on in Montreal (Canada...   \n",
       "\n",
       "                                               Top19  \\\n",
       "0  b'This is a busy day:  The European Union has ...   \n",
       "1    b'China to overtake US as largest manufacturer'   \n",
       "\n",
       "                                               Top20  \\\n",
       "0  b\"Georgia will withdraw 1,000 soldiers from Ir...   \n",
       "1                     b'War in South Ossetia [PICS]'   \n",
       "\n",
       "                                               Top21  \\\n",
       "0  b'Why the Pentagon Thinks Attacking Iran is a ...   \n",
       "1  b'Israeli Physicians Group Condemns State Tort...   \n",
       "\n",
       "                                               Top22  \\\n",
       "0  b'Caucasus in crisis: Georgia invades South Os...   \n",
       "1  b' Russia has just beaten the United States ov...   \n",
       "\n",
       "                                               Top23  \\\n",
       "0  b'Indian shoe manufactory  - And again in a se...   \n",
       "1  b'Perhaps *the* question about the Georgia - R...   \n",
       "\n",
       "                                               Top24  \\\n",
       "0  b'Visitors Suffering from Mental Illnesses Ban...   \n",
       "1                 b'Russia is so much better at war'   \n",
       "\n",
       "                                               Top25  \n",
       "0           b\"No Help for Mexico's Kidnapping Surge\"  \n",
       "1  b\"So this is what it's come to: trading sex fo...  \n",
       "\n",
       "[2 rows x 27 columns]"
      ]
     },
     "execution_count": 26,
     "metadata": {},
     "output_type": "execute_result"
    }
   ],
   "source": [
    "data.head(2)"
   ]
  },
  {
   "cell_type": "markdown",
   "metadata": {
    "collapsed": true
   },
   "source": [
    "## 分割数据"
   ]
  },
  {
   "cell_type": "code",
   "execution_count": 4,
   "metadata": {
    "ExecuteTime": {
     "end_time": "2019-07-30T08:36:06.340215Z",
     "start_time": "2019-07-30T08:36:06.281211Z"
    },
    "collapsed": true
   },
   "outputs": [],
   "source": [
    "train = data[data['Date'] < '2015-01-01']\n",
    "test = data[data['Date'] > '2014-12-31']"
   ]
  },
  {
   "cell_type": "markdown",
   "metadata": {},
   "source": [
    "## 25条新闻合并"
   ]
  },
  {
   "cell_type": "markdown",
   "metadata": {
    "collapsed": true
   },
   "source": [
    "每一个样本的全部文本都表示成一个向量<br>\n",
    "这里我们注意，我们需要三样东西：<br>\n",
    "corpus是全部我们『可见』的文本资料。我们假设每条新闻就是一句话，把他们全部flatten()了，我们就会得到list of sentences。<br>\n",
    "同时我们的x_train和x_test不能随便flatten，他们需要与y_train和y_test对应。"
   ]
  },
  {
   "cell_type": "markdown",
   "metadata": {},
   "source": [
    "### 准备corpus\n",
    "corpus：句子的list list of sentences<br>"
   ]
  },
  {
   "cell_type": "code",
   "execution_count": 5,
   "metadata": {
    "ExecuteTime": {
     "end_time": "2019-07-30T08:36:08.688332Z",
     "start_time": "2019-07-30T08:36:08.682331Z"
    },
    "collapsed": true
   },
   "outputs": [],
   "source": [
    "x_train = train[train.columns[2:]]"
   ]
  },
  {
   "cell_type": "code",
   "execution_count": 6,
   "metadata": {
    "ExecuteTime": {
     "end_time": "2019-07-30T08:36:10.771429Z",
     "start_time": "2019-07-30T08:36:10.682825Z"
    },
    "collapsed": true
   },
   "outputs": [],
   "source": [
    "#flatten()作用是将array中所有的元素都拉成一个list中的item\n",
    "corpus = x_train.values.flatten().astype(str)"
   ]
  },
  {
   "cell_type": "code",
   "execution_count": 7,
   "metadata": {
    "ExecuteTime": {
     "end_time": "2019-07-30T08:36:13.290547Z",
     "start_time": "2019-07-30T08:36:13.268947Z"
    },
    "collapsed": false
   },
   "outputs": [
    {
     "data": {
      "text/plain": [
       "array(['b\"Georgia \\'downs two Russian warplanes\\' as countries move to brink of war\"',\n",
       "       \"b'BREAKING: Musharraf to be impeached.'\",\n",
       "       \"b'Russia Today: Columns of troops roll into South Ossetia; footage from fighting (YouTube)'\",\n",
       "       ...,\n",
       "       'New solar power material converts 90 percent of captured light into heat',\n",
       "       'China launches website laying claim to Senkaku Islands',\n",
       "       'At Least 33 Killed in Yemen Suicide Bombing'], dtype='<U312')"
      ]
     },
     "execution_count": 7,
     "metadata": {},
     "output_type": "execute_result"
    }
   ],
   "source": [
    "corpus#每条新闻是一个item"
   ]
  },
  {
   "cell_type": "markdown",
   "metadata": {},
   "source": [
    "### 准备训练集 测试集"
   ]
  },
  {
   "cell_type": "code",
   "execution_count": 8,
   "metadata": {
    "ExecuteTime": {
     "end_time": "2019-07-30T08:36:15.638061Z",
     "start_time": "2019-07-30T08:36:15.450050Z"
    },
    "collapsed": false
   },
   "outputs": [],
   "source": [
    "#训练集：把25个句子连成一个句子\n",
    "x_train = x_train.values.astype(str)\n",
    "x_train = np.array([' '.join(x) for x in x_train])\n",
    "x_test = test[test.columns[2:]]\n",
    "x_test = x_test.values.astype(str)\n",
    "x_test =np.array([' '.join(x) for x in x_test])"
   ]
  },
  {
   "cell_type": "code",
   "execution_count": 9,
   "metadata": {
    "ExecuteTime": {
     "end_time": "2019-07-30T08:36:19.525231Z",
     "start_time": "2019-07-30T08:36:19.508230Z"
    },
    "collapsed": false
   },
   "outputs": [
    {
     "data": {
      "text/plain": [
       "array(['b\"Georgia \\'downs two Russian warplanes\\' as countries move to brink of war\" b\\'BREAKING: Musharraf to be impeached.\\' b\\'Russia Today: Columns of troops roll into South Ossetia; footage from fighting (YouTube)\\' b\\'Russian tanks are moving towards the capital of South Ossetia, which has reportedly been completely destroyed by Georgian artillery fire\\' b\"Afghan children raped with \\'impunity,\\' U.N. official says - this is sick, a three year old was raped and they do nothing\" b\\'150 Russian tanks have entered South Ossetia whilst Georgia shoots down two Russian jets.\\' b\"Breaking: Georgia invades South Ossetia, Russia warned it would intervene on SO\\'s side\" b\"The \\'enemy combatent\\' trials are nothing but a sham: Salim Haman has been sentenced to 5 1/2 years, but will be kept longer anyway just because they feel like it.\" b\\'Georgian troops retreat from S. Osettain capital, presumably leaving several hundred people killed. [VIDEO]\\' b\\'Did the U.S. Prep Georgia for War with Russia?\\' b\\'Rice Gives Green Light for Israel to Attack Iran: Says U.S. has no veto over Israeli military ops\\' b\\'Announcing:Class Action Lawsuit on Behalf of American Public Against the FBI\\' b\"So---Russia and Georgia are at war and the NYT\\'s top story is opening ceremonies of the Olympics?  What a fucking disgrace and yet further proof of the decline of journalism.\" b\"China tells Bush to stay out of other countries\\' affairs\" b\\'Did World War III start today?\\' b\\'Georgia Invades South Ossetia - if Russia gets involved, will NATO absorb Georgia and unleash a full scale war?\\' b\\'Al-Qaeda Faces Islamist Backlash\\' b\\'Condoleezza Rice: \"The US would not act to prevent an Israeli strike on Iran.\" Israeli Defense Minister Ehud Barak: \"Israel is prepared for uncompromising victory in the case of military hostilities.\"\\' b\\'This is a busy day:  The European Union has approved new sanctions against Iran in protest at its nuclear programme.\\' b\"Georgia will withdraw 1,000 soldiers from Iraq to help fight off Russian forces in Georgia\\'s breakaway region of South Ossetia\" b\\'Why the Pentagon Thinks Attacking Iran is a Bad Idea - US News &amp; World Report\\' b\\'Caucasus in crisis: Georgia invades South Ossetia\\' b\\'Indian shoe manufactory  - And again in a series of \"you do not like your work?\"\\' b\\'Visitors Suffering from Mental Illnesses Banned from Olympics\\' b\"No Help for Mexico\\'s Kidnapping Surge\"',\n",
       "       'b\\'Why wont America and Nato help us? If they wont help us now, why did we help them in Iraq?\\' b\\'Bush puts foot down on Georgian conflict\\' b\"Jewish Georgian minister: Thanks to Israeli training, we\\'re fending off Russia \" b\\'Georgian army flees in disarray as Russians advance - Gori abandoned to Russia without a shot fired\\' b\"Olympic opening ceremony fireworks \\'faked\\'\" b\\'What were the Mossad with fraudulent New Zealand Passports doing in Iraq?\\' b\\'Russia angered by Israeli military sale to Georgia\\' b\\'An American citizen living in S.Ossetia blames U.S. and Georgian leaders for the genocide of innocent people\\' b\\'Welcome To World War IV! Now In High Definition!\\' b\"Georgia\\'s move, a mistake of monumental proportions \" b\\'Russia presses deeper into Georgia; U.S. says regime change is goal\\' b\\'Abhinav Bindra wins first ever Individual Olympic Gold Medal for India\\' b\\' U.S. ship heads for Arctic to define territory\\' b\\'Drivers in a Jerusalem taxi station threaten to quit rather than work for their new boss - an Arab\\' b\\'The French Team is Stunned by Phelps and the 4x100m Relay Team\\' b\\'Israel and the US behind the Georgian aggression?\\' b\\'\"Do not believe TV, neither Russian nor Georgian. There are much more victims\"\\' b\\'Riots are still going on in Montreal (Canada) because police murdered a boy on Saturday.\\' b\\'China to overtake US as largest manufacturer\\' b\\'War in South Ossetia [PICS]\\' b\\'Israeli Physicians Group Condemns State Torture\\' b\\' Russia has just beaten the United States over the head with Peak Oil\\' b\\'Perhaps *the* question about the Georgia - Russia conflict \\' b\\'Russia is so much better at war\\' b\"So this is what it\\'s come to: trading sex for food.\"'],\n",
       "      dtype='<U4424')"
      ]
     },
     "execution_count": 9,
     "metadata": {},
     "output_type": "execute_result"
    }
   ],
   "source": [
    "x_train[:2]#25个新闻是一个item"
   ]
  },
  {
   "cell_type": "code",
   "execution_count": 40,
   "metadata": {
    "ExecuteTime": {
     "end_time": "2019-07-30T09:28:33.676810Z",
     "start_time": "2019-07-30T09:28:33.669810Z"
    },
    "collapsed": false
   },
   "outputs": [],
   "source": [
    "y_train = train[\"Label\"].values\n",
    "y_test = test[\"Label\"].values"
   ]
  },
  {
   "cell_type": "markdown",
   "metadata": {
    "ExecuteTime": {
     "end_time": "2019-07-29T20:20:55.132864Z",
     "start_time": "2019-07-29T20:20:55.124864Z"
    }
   },
   "source": [
    "### 分词\n",
    "corpus和x_train的分词不一样<br>\n",
    "corpus是list of sentences"
   ]
  },
  {
   "cell_type": "code",
   "execution_count": 11,
   "metadata": {
    "ExecuteTime": {
     "end_time": "2019-07-30T08:37:04.043069Z",
     "start_time": "2019-07-30T08:36:26.625564Z"
    },
    "collapsed": false
   },
   "outputs": [
    {
     "name": "stdout",
     "output_type": "stream",
     "text": [
      "showing info https://raw.githubusercontent.com/nltk/nltk_data/gh-pages/index.xml\n"
     ]
    },
    {
     "data": {
      "text/plain": [
       "True"
      ]
     },
     "execution_count": 11,
     "metadata": {},
     "output_type": "execute_result"
    }
   ],
   "source": [
    "import nltk\n",
    "nltk.download()"
   ]
  },
  {
   "cell_type": "code",
   "execution_count": 12,
   "metadata": {
    "ExecuteTime": {
     "end_time": "2019-07-30T08:37:27.248432Z",
     "start_time": "2019-07-30T08:37:06.650783Z"
    },
    "collapsed": false
   },
   "outputs": [],
   "source": [
    "from nltk.tokenize import word_tokenize\n",
    "corpus = [word_tokenize(x) for x in corpus]\n",
    "x_train = [word_tokenize(x) for x in x_train]\n",
    "x_test = [word_tokenize(x) for x in x_test]"
   ]
  },
  {
   "cell_type": "code",
   "execution_count": 13,
   "metadata": {
    "ExecuteTime": {
     "end_time": "2019-07-30T08:37:28.999308Z",
     "start_time": "2019-07-30T08:37:28.994308Z"
    },
    "collapsed": false
   },
   "outputs": [
    {
     "name": "stdout",
     "output_type": "stream",
     "text": [
      "[\"b'North\", 'Korean', 'Leader', 'Kim', 'Jong-il', 'is', 'Confirmed', 'to', 'be', 'Ill', \"'\"]\n",
      "['Two', 'redditors', 'are', 'climbing', 'Mt', '.', 'Kilimanjaro', 'for', 'charity', 'and', 'will', 'do', 'your', 'bidding', 'at', 'the', 'peak', '.', 'Do', \"n't\", 'squander', 'this', 'opportunity', 'to', 'let', 'your', 'upvotes', 'do', 'something', 'awesome', '.', 'It', 'is', 'estimated', 'it', 'will', 'take', '3,000', 'years', 'to', 'clear', 'Laos', 'of', 'all', 'the', 'explosive', 'remnants', 'left', 'behind', 'from', 'United', 'States', 'bombers', 'over', '30', 'years', 'ago', '.', 'More', 'than', '20,000', 'people', 'have', 'died', 'from', 'unexploded', 'ordnance', 'since', 'conflict', 'ended', '.', 'Fidel', 'to', 'Ahmadinejad', ':', \"'Stop\", 'Slandering', 'the', 'Jews', \"'\", 'Mossad', 'in', 'America', '|', 'Israels', 'intelligence', 'agencies', 'target', 'the', 'United', 'States', 'intensively', '.', 'Among', 'nations', 'considered', 'to', 'be', 'friendly', 'to', 'Washington', ',', 'Israel', 'leads', 'all', 'others', 'in', 'its', 'active', 'espionage', 'directed', 'against', 'American', 'companies', 'and', 'the', 'Defense', 'Department', '.', 'Australian', 'Election', ':', '17', 'days', 'after', 'poll', ',', '2', 'out', 'of', '3', 'rural/regional', 'independent', 'members', 'of', 'parliament', 'support', 'a', 'Labor', 'minority', 'goverment', 'with', 'Julia', 'Gillard', 'as', 'Prime', 'Minister', 'France', '-', 'Plan', 'to', 'Raise', 'Retirement', 'Age', 'Sets', 'Off', 'Strikes', 'Britain', \"'s\", 'parliament', ',', 'police', ',', 'a', 'Murdoch', 'paper', ',', 'and', 'adviser', 'to', 'PM', 'implicated', 'in', 'voicemail', 'hacking', 'scandal', 'British', 'policeman', 'jailed', 'for', '6', 'months', 'for', 'cell', 'attack', 'on', 'woman', '``', 'The', 'rest', 'of', 'the', 'email', 'displays', 'a', 'fundemental', 'disdain', 'for', 'a', 'pluralistic', 'America', 'and', 'reveals', 'chilling', 'levels', 'of', 'Islamophobia', 'and', 'hatemongering', '.', \"''\", 'Church', \"'s\", 'plans', 'to', 'burn', \"Qur'an\", 'will', 'endanger', 'troops', ',', 'US', 'commander', 'warns', 'Freed', 'Journalist', 'Tricked', 'Captors', 'Into', 'Twitter', 'Access', 'Manilas', 'water', 'crisis', 'exposes', 'impact', 'of', 'privatisation', '.', '``', 'Julys', 'week-long', 'rationing', 'of', 'water', 'highlighted', 'the', 'reality', ':', 'millions', 'of', 'people', 'are', 'denied', 'the', 'basic', 'right', 'to', 'potable', 'water', 'and', 'sanitation', 'while', 'private', 'firms', 'rake', 'in', 'profits', 'at', 'their', 'expense', '.', \"''\", 'Weird', ':', 'UK', 'police', 'ask', 'for', 'help', 'in', 'case', 'of', 'slain', 'intelligence', 'agent', 'Greenpeace', 'Japan', 'Anti-whaling', 'Activists', 'Found', 'Guilty', 'of', 'Theft', 'Captured', 'Journalist', 'Tricks', 'Captors', 'Into', 'Revealing', 'He', 'is', 'Alive', 'Creepy', 'Biometric', 'IDs', 'to', 'Be', 'Forced', 'Onto', 'India', \"'s\", '1.2', 'Billion', 'Inhabitants', '.', '``', 'Fears', 'about', 'loss', 'of', 'privacy', 'and', 'government', 'abuse', 'abound', 'as', 'India', 'gears', 'up', 'to', 'biometrically', 'identify', 'and', 'number', 'its', '1.2', 'billion', 'inhabitants', '.', \"''\", 'Chinas', 'young', 'officers', 'and', 'the', '1930s', 'syndrome', '.', 'Chinas', 'military', 'spending', 'is', 'growing', 'so', 'fast', 'that', 'it', 'has', 'overtaken', 'strategy', ',', 'said', 'Professor', 'Huang', 'Jing', 'from', 'the', 'School', 'of', 'Public', 'Policy', '.', 'The', 'young', 'officers', 'are', 'taking', 'control', 'of', 'strategy', 'and', 'it', 'is', 'like', 'young', 'officers', 'in', 'Japan', 'in', 'the', '1930s', '.', \"''\", 'Mexican', 'soldiers', 'open', 'fire', 'on', 'family', \"'s\", 'car', 'at', 'military', 'checkpoint', ',', 'killing', 'father', 'and', 'son', 'Death', 'toll', 'continues', 'to', 'climb', 'in', 'Guatemala', 'landslides', 'Foreign', 'powers', 'should', 'stop', 'interfering', 'in', 'the', 'case', 'of', 'an', 'Iranian', 'woman', 'who', 'was', 'sentenced', 'to', 'death', 'by', 'stoning', ',', 'Iran', \"'s\", 'foreign', 'ministry', 'has', 'said', '.', 'Mexican', 'officials', ':', 'Gunmen', 'behind', 'massacre', 'of', '72', 'have', 'been', 'killed', 'TV', 'anchor', 'stabbed', 'to', 'death', 'outside', 'his', 'Kabul', 'home', 'The', 'mosque', 'menace', 'is', 'not', 'confined', 'to', 'Lower', 'Manhattan', '.', 'In', 'many', 'European', 'countries', 'similar', 'alarms', 'are', 'sounded', ':', 'The', 'Muslims', 'are', 'coming', '!', 'French', 'citizens', 'barred', 'from', 'American', 'military', 'bases', 'Dutch', 'neo-Nazi', 'donates', 'sperm', \"'for\", 'whites', 'only', \"'\", '-', 'A', 'Dutch', 'neo-Nazi', 'has', 'offered', 'to', 'donate', 'his', 'sperm', 'to', 'four', 'fertility', 'clinics', 'in', 'the', 'Netherlands', 'in', 'an', 'effort', 'to', 'promote', 'what', 'he', 'calls', '``', 'a', 'strong', 'white', 'race', \"''\", '...']\n"
     ]
    }
   ],
   "source": [
    "print(corpus[553])\n",
    "print(x_train[523])"
   ]
  },
  {
   "cell_type": "markdown",
   "metadata": {},
   "source": [
    "## Word2Vec模型训练\n",
    "用corpus训练Word2Vec模型"
   ]
  },
  {
   "cell_type": "code",
   "execution_count": 26,
   "metadata": {
    "ExecuteTime": {
     "end_time": "2019-07-30T08:56:13.236972Z",
     "start_time": "2019-07-30T08:56:08.147164Z"
    },
    "collapsed": false
   },
   "outputs": [],
   "source": [
    "import gensim\n",
    "from gensim.models.word2vec import Word2Vec\n",
    "model = Word2Vec(corpus,window=5,size=128,min_count=5, workers=4)"
   ]
  },
  {
   "cell_type": "markdown",
   "metadata": {},
   "source": [
    "### 注意：Word2Vec得到某个词向量时用[]"
   ]
  },
  {
   "cell_type": "code",
   "execution_count": 27,
   "metadata": {
    "ExecuteTime": {
     "end_time": "2019-07-30T08:56:16.333274Z",
     "start_time": "2019-07-30T08:56:16.311674Z"
    },
    "collapsed": false
   },
   "outputs": [
    {
     "name": "stderr",
     "output_type": "stream",
     "text": [
      "D:\\Anaconda\\lib\\site-packages\\ipykernel\\__main__.py:1: DeprecationWarning: Call to deprecated `__getitem__` (Method will be removed in 4.0.0, use self.wv.__getitem__() instead).\n",
      "  if __name__ == '__main__':\n"
     ]
    },
    {
     "data": {
      "text/plain": [
       "array([-0.14264031,  0.16468444, -0.00667715,  0.16964218,  0.262717  ,\n",
       "       -0.09714058,  0.05031168, -0.00109085, -0.09053805,  0.03021898,\n",
       "        0.09345487,  0.05606367, -0.08996779,  0.19928697,  0.01499935,\n",
       "       -0.06707655, -0.0915386 ,  0.05056748,  0.0115059 ,  0.15334082,\n",
       "       -0.06035493, -0.09745526,  0.10411605, -0.03749559,  0.1029333 ,\n",
       "       -0.04420374,  0.03267673, -0.09967525, -0.04672189, -0.1211035 ,\n",
       "       -0.06053702, -0.11562113, -0.02716817,  0.03654323, -0.27733657,\n",
       "       -0.00690464,  0.06455553,  0.23526824, -0.01933199, -0.0337965 ,\n",
       "       -0.10611042,  0.06697094, -0.08177955,  0.03971796,  0.09432867,\n",
       "        0.04607827,  0.0352625 ,  0.02533959, -0.08338047,  0.11769947,\n",
       "       -0.07419606, -0.02829058, -0.10053303,  0.06571943, -0.01012354,\n",
       "       -0.13095425, -0.15742463,  0.00478723,  0.00217993,  0.13057344,\n",
       "       -0.17434026, -0.04317304, -0.03167403,  0.14011109,  0.25813758,\n",
       "        0.05031311, -0.00798542,  0.16535811, -0.1546515 , -0.07330872,\n",
       "        0.12537715, -0.10022739,  0.11587565,  0.05663454,  0.11635329,\n",
       "       -0.04984348, -0.03446786,  0.01739932, -0.22979915, -0.10621016,\n",
       "        0.02411385, -0.2819512 , -0.08940081,  0.07628579, -0.04968116,\n",
       "       -0.03793935, -0.02840482,  0.12868498,  0.09001466,  0.0111135 ,\n",
       "       -0.03229606,  0.06692079,  0.04509327, -0.133273  ,  0.09637872,\n",
       "        0.1182237 ,  0.12190899, -0.02318859,  0.05592141,  0.15681365,\n",
       "       -0.01980159, -0.07140955,  0.09855594, -0.01437449, -0.2120824 ,\n",
       "       -0.16511153, -0.09796735,  0.1847001 ,  0.05290392, -0.1694154 ,\n",
       "       -0.06147639,  0.06028134, -0.0427974 ,  0.05004597,  0.08543882,\n",
       "       -0.00782794,  0.11470536,  0.01552785,  0.11956034, -0.08304891,\n",
       "        0.10526759,  0.03303239,  0.00484712, -0.05909705, -0.07315077,\n",
       "        0.08546586, -0.20264408,  0.0379695 ], dtype=float32)"
      ]
     },
     "execution_count": 27,
     "metadata": {},
     "output_type": "execute_result"
    }
   ],
   "source": [
    "model['date']"
   ]
  },
  {
   "cell_type": "markdown",
   "metadata": {},
   "source": [
    "### 用训练好的Word2Vec模型处理x"
   ]
  },
  {
   "cell_type": "markdown",
   "metadata": {
    "collapsed": true
   },
   "source": [
    "Word2Vec 是将每一个单词表示成一个向量，但是现在我们需要的是将训练数据x_train的每一个样本表示成一个向量，即25个新闻组成的一个文本样本的向量<br>\n",
    "最简单的方法是，将每一个样本的所有单词的词向量求和得到一个平均向量作为这个样本的向量"
   ]
  },
  {
   "cell_type": "code",
   "execution_count": 34,
   "metadata": {
    "ExecuteTime": {
     "end_time": "2019-07-30T09:07:02.972439Z",
     "start_time": "2019-07-30T09:07:02.964439Z"
    },
    "collapsed": false
   },
   "outputs": [],
   "source": [
    "#Word2Vec只训练了有限个单词的词向量，所有有些词可能不在其词汇表里\n",
    "#要先获得词汇表，判断每个单词在不在里面\n",
    "vocab = model.wv.vocab\n",
    "\n",
    "#定义函数对每个样本的单词求平均\n",
    "def get_vector(word_list):\n",
    "    count =0\n",
    "    res = np.zeros([128])\n",
    "    for word in word_list:\n",
    "        if word in vocab:\n",
    "            res +=model[word]\n",
    "            count +=1\n",
    "    return res/count"
   ]
  },
  {
   "cell_type": "code",
   "execution_count": 35,
   "metadata": {
    "ExecuteTime": {
     "end_time": "2019-07-30T09:07:05.915349Z",
     "start_time": "2019-07-30T09:07:05.891347Z"
    },
    "collapsed": false
   },
   "outputs": [
    {
     "name": "stderr",
     "output_type": "stream",
     "text": [
      "D:\\Anaconda\\lib\\site-packages\\ipykernel\\__main__.py:11: DeprecationWarning: Call to deprecated `__getitem__` (Method will be removed in 4.0.0, use self.wv.__getitem__() instead).\n"
     ]
    },
    {
     "data": {
      "text/plain": [
       "array([-0.6605373 ,  0.49402067, -0.8326351 ,  0.61605322,  0.66222376,\n",
       "        0.02246767, -0.21105561,  0.20621505,  0.13260934,  0.40845338,\n",
       "        0.46584454, -0.06050917,  0.62498099, -0.04108508,  0.39253473,\n",
       "       -0.54704088, -0.56997854,  0.1104921 ,  0.17027102,  0.63165879,\n",
       "       -0.14320193, -0.38543192,  0.26186907, -0.02359982,  0.93065804,\n",
       "        0.03787797, -0.36178324, -0.6965245 ,  0.03029398, -0.38529506,\n",
       "       -0.52913922,  0.0852155 ,  0.3925921 ,  0.16579127, -0.87572533,\n",
       "        0.59103376, -0.14979149,  0.90728813,  0.26315117, -0.10724221,\n",
       "        0.0353661 , -0.14621736,  0.39472222, -0.24338852,  0.2900404 ,\n",
       "       -0.46821168,  0.46524253, -0.58268666,  0.43017957, -0.32548431,\n",
       "       -0.44425657, -0.13248608, -0.33830133,  0.37463894,  1.40702856,\n",
       "        0.08368908, -0.97230142,  0.7027396 ,  0.1770431 , -0.31976262,\n",
       "       -0.41690156, -0.06933596, -0.01441242,  0.52703309,  0.54991126,\n",
       "       -0.25993848, -0.72139633,  1.05259013, -0.37310714, -0.83375138,\n",
       "        0.43684235,  0.14202125, -0.26597384, -0.14141493,  0.4411276 ,\n",
       "        0.09497743, -0.06780232, -0.0785964 , -0.51986825, -0.25030577,\n",
       "        0.88380867, -1.1103003 , -1.65467894,  0.69443423,  0.22116415,\n",
       "       -0.0790675 ,  0.2043052 ,  1.00576937, -0.09322701, -0.19067879,\n",
       "       -0.02950775,  0.09522792,  0.3094295 , -0.32038042,  0.06977596,\n",
       "        0.37819731, -0.44642946, -0.00565229,  0.30587086,  0.13902745,\n",
       "       -0.06471   , -0.229046  ,  0.94926357, -0.4604423 , -0.56643075,\n",
       "        0.22679023, -0.29826432,  0.33404592, -0.54689097, -0.00168223,\n",
       "        0.55469739,  0.08991875, -0.47174722, -0.62610883, -0.64438272,\n",
       "       -0.13224661, -0.55967069,  0.42182133,  0.17599222, -0.38074023,\n",
       "        0.21117498,  1.13394964,  0.35495961,  0.77916694,  0.18640997,\n",
       "       -0.13999735,  0.30079174,  0.35840312])"
      ]
     },
     "execution_count": 35,
     "metadata": {},
     "output_type": "execute_result"
    }
   ],
   "source": [
    "get_vector(['hello', 'from'])"
   ]
  },
  {
   "cell_type": "code",
   "execution_count": 36,
   "metadata": {
    "ExecuteTime": {
     "end_time": "2019-07-30T09:12:03.346270Z",
     "start_time": "2019-07-30T09:11:48.714728Z"
    },
    "collapsed": false
   },
   "outputs": [
    {
     "name": "stderr",
     "output_type": "stream",
     "text": [
      "D:\\Anaconda\\lib\\site-packages\\ipykernel\\__main__.py:11: DeprecationWarning: Call to deprecated `__getitem__` (Method will be removed in 4.0.0, use self.wv.__getitem__() instead).\n"
     ]
    }
   ],
   "source": [
    "#x_train是一个list\n",
    "wordlist_train = x_train\n",
    "wordlist_test = x_test\n",
    "\n",
    "x_train = [get_vector(x) for x in x_train]\n",
    "x_test = [get_vector(x) for x in x_test]"
   ]
  },
  {
   "cell_type": "code",
   "execution_count": 38,
   "metadata": {
    "ExecuteTime": {
     "end_time": "2019-07-30T09:12:24.150729Z",
     "start_time": "2019-07-30T09:12:24.138728Z"
    },
    "collapsed": false
   },
   "outputs": [
    {
     "data": {
      "text/plain": [
       "[array([-3.92448334e-01,  4.40706334e-01,  8.96023815e-02,  4.07383516e-01,\n",
       "         6.14858784e-01, -1.01111533e-01,  7.38434483e-02, -1.12978629e-01,\n",
       "        -4.84535370e-02,  1.29636125e-01,  1.35867448e-01,  4.51686830e-02,\n",
       "        -1.78134860e-01,  2.67426815e-01,  8.65812886e-02, -1.55470973e-01,\n",
       "        -2.45404437e-01, -3.50524420e-02, -1.55610140e-01,  2.84929650e-01,\n",
       "         2.25832873e-02, -2.63648896e-01,  1.67926781e-01, -1.44234700e-01,\n",
       "         1.85433446e-01,  1.14196925e-01,  1.89076350e-01, -3.13912390e-01,\n",
       "        -2.20057318e-02, -2.02335236e-01, -8.57209994e-02, -2.20124088e-01,\n",
       "        -1.13821345e-01,  1.25411082e-01, -5.27325295e-01,  9.71285988e-02,\n",
       "        -6.45480537e-02,  6.94956154e-01,  5.22912699e-02, -2.47363057e-01,\n",
       "        -1.72729644e-01,  1.02293633e-01, -2.44123409e-01,  1.62163430e-01,\n",
       "         1.96217506e-01,  1.31425722e-01,  4.54573968e-02, -5.35316066e-02,\n",
       "        -1.11642867e-01,  3.00500801e-01, -1.14477246e-01, -1.35071009e-01,\n",
       "        -1.26016650e-01, -1.58465565e-02,  3.78889930e-02, -2.62773198e-01,\n",
       "        -5.13768069e-01, -1.00978298e-01, -1.03356146e-03,  3.85714013e-01,\n",
       "        -3.83479752e-01, -6.07767196e-02, -4.14207703e-02,  3.62648178e-01,\n",
       "         7.43705771e-01,  1.28240784e-01, -2.40009948e-01,  3.89465956e-01,\n",
       "        -4.34485992e-01, -3.06330792e-01,  1.42202413e-01, -2.95674045e-01,\n",
       "         1.58229597e-01,  2.84961696e-02,  2.94175530e-01, -1.20338616e-01,\n",
       "         7.31515958e-02,  1.47816883e-01, -5.54331203e-01, -3.00783536e-01,\n",
       "         1.23817235e-01, -4.70041660e-01, -6.93641056e-02,  3.04435194e-01,\n",
       "        -5.79210898e-02, -1.37254944e-01, -7.17294349e-02,  3.11627299e-01,\n",
       "        -1.23654337e-02,  7.65384871e-02,  9.38498403e-02,  2.22226452e-01,\n",
       "         1.52849683e-01, -3.24065469e-01,  2.38627131e-01,  2.13239384e-01,\n",
       "         2.01811726e-01, -1.43971960e-01,  6.22863028e-02,  4.67060337e-01,\n",
       "        -5.04478771e-02, -2.67609430e-01,  1.95630216e-01, -1.00388256e-01,\n",
       "        -3.39356482e-01, -3.91325570e-01, -2.11946158e-01,  3.57289258e-01,\n",
       "         1.20027936e-01, -3.30431063e-01, -9.16707571e-02,  4.35789565e-02,\n",
       "        -6.11145274e-02, -6.11752367e-04,  8.75475218e-02, -5.87989153e-02,\n",
       "         1.66262516e-01,  1.49057762e-01,  2.09540181e-01, -1.61369669e-01,\n",
       "         1.90766720e-01, -1.16217423e-01,  1.20225803e-02, -8.44866375e-03,\n",
       "        -2.95452420e-01,  1.27808063e-01, -4.11351764e-01,  7.14769623e-02]),\n",
       " array([-0.44749237,  0.38323074,  0.1178102 ,  0.37181555,  0.64491185,\n",
       "        -0.12816951, -0.02202126, -0.09091732, -0.00314517,  0.11051443,\n",
       "         0.16084551, -0.00570903, -0.15274305,  0.26143959,  0.08107351,\n",
       "        -0.1677284 , -0.28739329, -0.02121367, -0.17578941,  0.25107171,\n",
       "        -0.03004827, -0.24217973,  0.16840086, -0.16674719,  0.20902528,\n",
       "         0.04840392,  0.17957116, -0.30821201, -0.05486201, -0.20535578,\n",
       "        -0.09174647, -0.2500723 , -0.17077376,  0.12922706, -0.53350425,\n",
       "         0.08215617,  0.00295188,  0.69589031,  0.10915041, -0.25926048,\n",
       "        -0.19571879,  0.05336222, -0.24257954,  0.14776058,  0.19926679,\n",
       "         0.0873957 ,  0.0800017 , -0.05846969, -0.12296425,  0.31059457,\n",
       "        -0.13056201, -0.12651941, -0.11689821,  0.00504515,  0.08560921,\n",
       "        -0.31017535, -0.4672613 , -0.05786327,  0.01327717,  0.40173712,\n",
       "        -0.38829948, -0.09572975, -0.11092594,  0.34550445,  0.72433381,\n",
       "         0.10562622, -0.28428673,  0.3922549 , -0.40680659, -0.3148066 ,\n",
       "         0.17065546, -0.29951058,  0.15055305, -0.01659132,  0.31611769,\n",
       "        -0.15338419,  0.04978713,  0.16313026, -0.55418256, -0.31366566,\n",
       "         0.1586522 , -0.41191234,  0.01920399,  0.30086279, -0.0229986 ,\n",
       "        -0.16247463, -0.10284899,  0.29334402,  0.00098283,  0.09641088,\n",
       "         0.08605716,  0.1910888 ,  0.11392542, -0.35012326,  0.31093293,\n",
       "         0.25445522,  0.25152751, -0.14890148,  0.04244499,  0.42881924,\n",
       "        -0.03674149, -0.22303034,  0.19394526, -0.10912343, -0.30234994,\n",
       "        -0.35991503, -0.23279409,  0.3742627 ,  0.02995043, -0.22115321,\n",
       "        -0.08589773,  0.03551267, -0.0279576 ,  0.01222973,  0.04292737,\n",
       "        -0.055759  ,  0.15884049,  0.16807985,  0.19843071, -0.11857569,\n",
       "         0.21479788, -0.13770957,  0.02370629, -0.04329711, -0.31055909,\n",
       "         0.11450617, -0.41609462,  0.08089239])]"
      ]
     },
     "execution_count": 38,
     "metadata": {},
     "output_type": "execute_result"
    }
   ],
   "source": [
    "x_train[:2]"
   ]
  },
  {
   "cell_type": "markdown",
   "metadata": {},
   "source": [
    "## 用ML模型训练"
   ]
  },
  {
   "cell_type": "markdown",
   "metadata": {},
   "source": [
    "因为我们128维的每一个值都是连续关系的。不是分裂开考虑的。所以，道理上讲，我们是不太适合用RandomForest这类把每个column当做单独的variable来看的方法。<br>\n",
    "比较适合连续函数的方法：SVM"
   ]
  },
  {
   "cell_type": "code",
   "execution_count": 47,
   "metadata": {
    "ExecuteTime": {
     "end_time": "2019-07-30T09:33:00.169952Z",
     "start_time": "2019-07-30T09:32:47.329590Z"
    },
    "collapsed": false
   },
   "outputs": [],
   "source": [
    "from sklearn.svm import SVC\n",
    "from sklearn.model_selection import cross_val_score\n",
    "\n",
    "params = [0.1,0.5,1,5,7,10,16,20,25,30,35,40,60,80,100]\n",
    "test_scores = []\n",
    "for param in params:\n",
    "    svc = SVC(gamma=param)\n",
    "    score = cross_val_score(svc,x_train,y_train,cv=3,scoring='roc_auc')\n",
    "    test_scores.append(np.mean(score))"
   ]
  },
  {
   "cell_type": "code",
   "execution_count": 48,
   "metadata": {
    "ExecuteTime": {
     "end_time": "2019-07-30T09:33:01.156590Z",
     "start_time": "2019-07-30T09:33:00.934780Z"
    },
    "collapsed": false
   },
   "outputs": [
    {
     "data": {
      "image/png": "[encoded data removed]",
      "text/plain": [
       "<matplotlib.figure.Figure at 0x27207080>"
      ]
     },
     "metadata": {},
     "output_type": "display_data"
    }
   ],
   "source": [
    "import matplotlib.pyplot as plt\n",
    "%matplotlib inline\n",
    "plt.plot(params, test_scores)\n",
    "plt.title(\"Param vs CV AUC Score\");"
   ]
  },
  {
   "cell_type": "markdown",
   "metadata": {},
   "source": [
    "# Word2vec + CNN"
   ]
  },
  {
   "cell_type": "markdown",
   "metadata": {},
   "source": [
    "## 转矩阵"
   ]
  },
  {
   "cell_type": "code",
   "execution_count": 60,
   "metadata": {
    "ExecuteTime": {
     "end_time": "2019-07-30T10:07:55.354585Z",
     "start_time": "2019-07-30T10:07:55.323384Z"
    },
    "code_folding": [],
    "collapsed": true
   },
   "outputs": [],
   "source": [
    "#不使用每个样本的词向量平均\n",
    "#将每个样本的的词向量组成一个矩阵 用cnn训练\n",
    "#但是要注意每个样本的矩阵大小要相同\n",
    "#考虑每个样本的256个单词，组成256*128的矩阵，不够的我们用[000000]补上\n",
    "#padding_size取多少个单词，vec_size词向量本身的维度 ，x是s所有样本的wordlist\n",
    "def transform_to_matrix(x, padding_size=256, vec_size=128):\n",
    "    res = []\n",
    "    for sen in x:\n",
    "        matrix = []\n",
    "        for i in range(256):\n",
    "            try:\n",
    "                matrix.append(model[sen[i]].tolist())#model处理得到的是array得转\n",
    "            except:\n",
    "                # 这里有两种except情况，\n",
    "                # 1. 这个单词找不到\n",
    "                # 2. sen没那么长\n",
    "                # 不管哪种情况，我们直接贴上全是0的vec\n",
    "                matrix.append([0]*vec_size)\n",
    "        res.append(matrix)\n",
    "    return res"
   ]
  },
  {
   "cell_type": "code",
   "execution_count": 66,
   "metadata": {
    "ExecuteTime": {
     "end_time": "2019-07-30T10:11:41.513435Z",
     "start_time": "2019-07-30T10:11:28.457617Z"
    },
    "collapsed": false
   },
   "outputs": [
    {
     "name": "stderr",
     "output_type": "stream",
     "text": [
      "D:\\Anaconda\\lib\\site-packages\\ipykernel\\__main__.py:12: DeprecationWarning: Call to deprecated `__getitem__` (Method will be removed in 4.0.0, use self.wv.__getitem__() instead).\n"
     ]
    }
   ],
   "source": [
    "#x_train是list，每个item是一个256*128的list\n",
    "x_train = transform_to_matrix(wordlist_train)\n",
    "x_test = transform_to_matrix(wordlist_test)"
   ]
  },
  {
   "cell_type": "code",
   "execution_count": 68,
   "metadata": {
    "ExecuteTime": {
     "end_time": "2019-07-30T10:12:45.196895Z",
     "start_time": "2019-07-30T10:12:41.458048Z"
    },
    "collapsed": false
   },
   "outputs": [
    {
     "data": {
      "text/plain": [
       "(1611, 256, 128)"
      ]
     },
     "execution_count": 68,
     "metadata": {},
     "output_type": "execute_result"
    }
   ],
   "source": [
    "x_train = np.array(x_train)\n",
    "x_train.shape"
   ]
  },
  {
   "cell_type": "code",
   "execution_count": 69,
   "metadata": {
    "ExecuteTime": {
     "end_time": "2019-07-30T10:13:11.520022Z",
     "start_time": "2019-07-30T10:13:10.593379Z"
    },
    "collapsed": false
   },
   "outputs": [
    {
     "data": {
      "text/plain": [
       "(378, 256, 128)"
      ]
     },
     "execution_count": 69,
     "metadata": {},
     "output_type": "execute_result"
    }
   ],
   "source": [
    "x_test = np.array(x_test)\n",
    "x_test.shape"
   ]
  },
  {
   "cell_type": "markdown",
   "metadata": {},
   "source": [
    "## reshape?"
   ]
  },
  {
   "cell_type": "markdown",
   "metadata": {},
   "source": [
    "每一个256*128的matrix，对应了我们每一个样本点<br>\n",
    "进行下一步之前，把input要reshape一下。<br>\n",
    "原因是我们要让每一个matrix外部“包裹”一层维度。来告诉我们的CNN model，我们的每个数据点都是独立的。之间木有前后关系。<br>\n",
    "其实对于股票这个case，前后关系是存在的。这里不想深究太多这个问题。有兴趣的同学可以谷歌CNN+LSTM这种强大带记忆的深度学习模型。"
   ]
  },
  {
   "cell_type": "code",
   "execution_count": 72,
   "metadata": {
    "ExecuteTime": {
     "end_time": "2019-07-30T10:25:04.514233Z",
     "start_time": "2019-07-30T10:25:04.503233Z"
    },
    "collapsed": false
   },
   "outputs": [
    {
     "data": {
      "text/plain": [
       "(1611, 1, 256, 128)"
      ]
     },
     "execution_count": 72,
     "metadata": {},
     "output_type": "execute_result"
    }
   ],
   "source": [
    "x_train = x_train.reshape(x_train.shape[0],1,x_train.shape[1],x_train.shape[2])\n",
    "x_test = x_test.reshape(x_test.shape[0],1,x_test.shape[1],x_test.shape[2])\n",
    "x_train.shape"
   ]
  },
  {
   "cell_type": "markdown",
   "metadata": {},
   "source": [
    "## 搭建cnn模型"
   ]
  },
  {
   "cell_type": "code",
   "execution_count": 78,
   "metadata": {
    "ExecuteTime": {
     "end_time": "2019-07-30T11:19:47.396227Z",
     "start_time": "2019-07-30T11:19:47.123211Z"
    },
    "collapsed": false
   },
   "outputs": [
    {
     "name": "stdout",
     "output_type": "stream",
     "text": [
      "WARNING:tensorflow:From C:\\Users\\Administrator\\AppData\\Roaming\\Python\\Python35\\site-packages\\keras\\backend\\tensorflow_backend.py:3445: calling dropout (from tensorflow.python.ops.nn_ops) with keep_prob is deprecated and will be removed in a future version.\n",
      "Instructions for updating:\n",
      "Please use `rate` instead of `keep_prob`. Rate should be set to `rate = 1 - keep_prob`.\n"
     ]
    }
   ],
   "source": [
    "from keras.preprocessing import sequence\n",
    "from keras.models import Sequential\n",
    "from keras.layers import Conv2D, MaxPooling2D\n",
    "from keras.layers.core import Dense, Dropout, Activation, Flatten\n",
    "# set parameters:\n",
    "batch_size = 32\n",
    "n_filter = 16\n",
    "filter_length = 4\n",
    "nb_epoch = 5\n",
    "n_pool = 2\n",
    "\n",
    "#卷积层\n",
    "cnnmodel = Sequential()\n",
    "cnnmodel.add(Conv2D(n_filter,(filter_length,filter_length),input_shape=(1,256,128),activation='relu',data_format='channels_first'))\n",
    "\n",
    "cnnmodel.add(Conv2D(n_filter,(filter_length,filter_length),activation='relu'))\n",
    "\n",
    "cnnmodel.add(MaxPooling2D(pool_size=(n_pool,n_pool)))\n",
    "cnnmodel.add(Dropout(0.25))\n",
    "cnnmodel.add(Flatten())\n",
    "#全连接层\n",
    "cnnmodel.add(Dense(128))\n",
    "cnnmodel.add(Activation('relu'))\n",
    "cnnmodel.add(Dropout(0.25))\n",
    "cnnmodel.add(Dense(1))\n",
    "cnnmodel.add(Activation('softmax'))\n",
    "#compile模型\n",
    "cnnmodel.compile(loss='mse',optimizer='adadelta',metrics=['accuracy'])"
   ]
  },
  {
   "cell_type": "markdown",
   "metadata": {},
   "source": [
    "## 模型训练"
   ]
  },
  {
   "cell_type": "code",
   "execution_count": 79,
   "metadata": {
    "ExecuteTime": {
     "end_time": "2019-07-30T11:33:12.516027Z",
     "start_time": "2019-07-30T11:25:02.599696Z"
    },
    "collapsed": false
   },
   "outputs": [
    {
     "name": "stdout",
     "output_type": "stream",
     "text": [
      "WARNING:tensorflow:From C:\\Users\\Administrator\\AppData\\Roaming\\Python\\Python35\\site-packages\\tensorflow\\python\\ops\\math_ops.py:3066: to_int32 (from tensorflow.python.ops.math_ops) is deprecated and will be removed in a future version.\n",
      "Instructions for updating:\n",
      "Use tf.cast instead.\n",
      "Epoch 1/5\n",
      "1611/1611 [==============================] - 94s 59ms/step - loss: 0.4581 - acc: 0.5419\n",
      "Epoch 2/5\n",
      "1611/1611 [==============================] - 93s 57ms/step - loss: 0.4581 - acc: 0.5419\n",
      "Epoch 3/5\n",
      "1611/1611 [==============================] - 94s 58ms/step - loss: 0.4581 - acc: 0.5419\n",
      "Epoch 4/5\n",
      "1611/1611 [==============================] - 93s 58ms/step - loss: 0.4581 - acc: 0.5419\n",
      "Epoch 5/5\n",
      "1611/1611 [==============================] - 104s 64ms/step - loss: 0.4581 - acc: 0.5419\n",
      "378/378 [==============================] - 12s 31ms/step\n",
      "Test score: 0.4920634922211763\n",
      "Test accuracy: 0.5079365098287189\n"
     ]
    }
   ],
   "source": [
    "# verbose参数：日志显示\n",
    "# = 0 为不在标准输出流输出日志信息\n",
    "# = 1 为输出进度条记录\n",
    "# = 2 为每个epoch输出一行记录\n",
    "# 注意： 默认为 1\n",
    "cnnmodel.fit(x_train,y_train,batch_size=batch_size,epochs=nb_epoch)\n",
    "score = cnnmodel.evaluate(x_test, y_test)\n",
    "print('Test score:', score[0])\n",
    "print('Test accuracy:', score[1])"
   ]
  },
  {
   "cell_type": "markdown",
   "metadata": {},
   "source": [
    "## 思考"
   ]
  },
  {
   "cell_type": "markdown",
   "metadata": {},
   "source": [
    "虽然我们这里使用了word2vec，但是对CNN而言，管你3721的input是什么，只要符合规矩，它都可以process。\n",
    "\n",
    "这其实就给了我们更多的“发散”空间：\n",
    "\n",
    "我们可以用ASCII码（0，256）来表达每个位置上的字符，并组合成一个大大的matrix。\n",
    "\n",
    "这样牛逼之处在于，你都不需要用preprocessing了，因为每一个字符的可以被表示出来，并且都有意义。\n",
    "\n",
    "另外，你也可以使用不同的分类器：\n",
    "\n",
    "我们这里使用了最简单的神经网络~\n",
    "\n",
    "你可以用LSTM或者RNN等接在CNN的那句Flatten之后"
   ]
  },
  {
   "cell_type": "code",
   "execution_count": null,
   "metadata": {
    "collapsed": true
   },
   "outputs": [],
   "source": []
  }
 ],
 "metadata": {
  "anaconda-cloud": {},
  "kernelspec": {
   "display_name": "Python [default]",
   "language": "python",
   "name": "python3"
  },
  "language_info": {
   "codemirror_mode": {
    "name": "ipython",
    "version": 3
   },
   "file_extension": ".py",
   "mimetype": "text/x-python",
   "name": "python",
   "nbconvert_exporter": "python",
   "pygments_lexer": "ipython3",
   "version": "3.5.2"
  },
  "toc": {
   "base_numbering": 1,
   "nav_menu": {},
   "number_sections": true,
   "sideBar": true,
   "skip_h1_title": false,
   "title_cell": "Table of Contents",
   "title_sidebar": "Contents",
   "toc_cell": false,
   "toc_position": {
    "height": "calc(100% - 180px)",
    "left": "10px",
    "top": "150px",
    "width": "273px"
   },
   "toc_section_display": true,
   "toc_window_display": true
  }
 },
 "nbformat": 4,
 "nbformat_minor": 1
}
